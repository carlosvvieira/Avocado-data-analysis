{
  "cells": [
    {
      "cell_type": "markdown",
      "metadata": {
        "id": "view-in-github",
        "colab_type": "text"
      },
      "source": [
        "<a href=\"https://colab.research.google.com/github/carlosvvieira/Avocado-data-analysis/blob/master/Module_1_Sequence_Type_(List)_Solutions.ipynb\" target=\"_parent\"><img src=\"https://colab.research.google.com/assets/colab-badge.svg\" alt=\"Open In Colab\"/></a>"
      ]
    },
    {
      "cell_type": "markdown",
      "metadata": {
        "id": "pU7Soxse7yQn"
      },
      "source": [
        "<img src=\"https://stepfunctioncoaching.co.uk/wp-content/uploads/2017/03/logo_default.png\" />"
      ]
    },
    {
      "cell_type": "markdown",
      "metadata": {
        "id": "QNlTG0IZ7yQr"
      },
      "source": [
        "## Exercises\n",
        "1. Assign the list `[\"say\", \"hello\", \"to\", \"my\", \"little\", \"pythonista\"]` to a variable called `words`. Print:\n",
        "    * The first word in `words`\n",
        "    * The last word in `words`\n",
        "    * The first letter of the first word in `words`\n",
        "    * The last letter of the second word in `words`\n",
        "    * The first four words in `words`\n",
        "    * The first two letters of the second word in `words`\n",
        "2. Change the word `\"hello\"` to `\"goodbye\"` in `words` and print the result.\n",
        "3. Change the word `\"pythonista\"` to the integer `42` in `words` and print the result.\n",
        "4. Print `words` concatenated with the list `[\"on\", \"toast\"]`, but without changing the value of `words` itself.\n",
        "5. Add the single word `\"on\"` to the end of `words`.\n",
        "6. Add the words `\"toast\", \"with\", \"marmalade\"` on to the end of `words`."
      ]
    },
    {
      "cell_type": "code",
      "execution_count": 8,
      "metadata": {
        "colab": {
          "base_uri": "https://localhost:8080/"
        },
        "id": "4TAFne9-7yQs",
        "outputId": "8717c9d4-f86f-42da-d3bc-bdc69824c07c"
      },
      "outputs": [
        {
          "output_type": "stream",
          "name": "stdout",
          "text": [
            "say\n",
            "pythonista\n",
            "o\n",
            "['say', 'hello', 'to', 'my']\n",
            "he\n"
          ]
        }
      ],
      "source": [
        "#Exercise - 1\n",
        "words = [\"say\", \"hello\", \"to\", \"my\", \"little\", \"pythonista\"]\n",
        "print(words[0])\n",
        "print(words[5]) # or you could use words[-1]\n",
        "\n",
        "second_word = words[1]\n",
        "print(second_word[-1])\n",
        "\n",
        "print(words[:4]) #words[0:4] is valid too. But it doesn't need the 0.\n",
        "\n",
        "print(second_word[:2])    \n"
      ]
    },
    {
      "cell_type": "code",
      "execution_count": 11,
      "metadata": {
        "colab": {
          "base_uri": "https://localhost:8080/"
        },
        "id": "qtSkIZmk7yQu",
        "outputId": "5a981b0b-615a-4770-baeb-d1069aac97fb"
      },
      "outputs": [
        {
          "output_type": "stream",
          "name": "stdout",
          "text": [
            "['say', 'goodbye', 'to', 'my', 'little', 'pythonista']\n"
          ]
        }
      ],
      "source": [
        "#Exercise - 2\n",
        "words[1] = \"goodbye\"\n",
        "print(words)"
      ]
    },
    {
      "cell_type": "code",
      "execution_count": 14,
      "metadata": {
        "colab": {
          "base_uri": "https://localhost:8080/"
        },
        "id": "KcJ0A3I07yQv",
        "outputId": "1ed76f34-3c43-4c2a-a115-4a54883aa3ff"
      },
      "outputs": [
        {
          "output_type": "stream",
          "name": "stdout",
          "text": [
            "['say', 'goodbye', 'to', 'my', 'little', 42]\n"
          ]
        }
      ],
      "source": [
        "#Exercise - 3\n",
        "words[-1] = 42\n",
        "print(words)"
      ]
    },
    {
      "cell_type": "code",
      "execution_count": null,
      "metadata": {
        "id": "HCG6_R3m7yQw",
        "outputId": "0e559ef2-7a2d-4c1e-ad4b-abcd8a2799c7"
      },
      "outputs": [
        {
          "name": "stdout",
          "output_type": "stream",
          "text": [
            "['say', 'hello', 'to', 'my', 'little', 'pythonista', 'on', 'toast']\n",
            "['say', 'hello', 'to', 'my', 'little', 'pythonista']\n"
          ]
        }
      ],
      "source": [
        "#Exercise - 4\n",
        "print(words+['on','toast'])\n",
        "print(words)"
      ]
    },
    {
      "cell_type": "code",
      "execution_count": null,
      "metadata": {
        "id": "Nq3_RH8G7yQw",
        "outputId": "0bdac387-cdd6-4434-8f8a-c81e3283f903"
      },
      "outputs": [
        {
          "name": "stdout",
          "output_type": "stream",
          "text": [
            "['say', 'hello', 'to', 'my', 'little', 'pythonista', 'on']\n"
          ]
        }
      ],
      "source": [
        "#Exercise - 5\n",
        "words.append(\"on\")\n",
        "print(words)"
      ]
    },
    {
      "cell_type": "code",
      "execution_count": null,
      "metadata": {
        "id": "C_EMk7MK7yQx",
        "outputId": "2546e11d-e6ad-435f-a45e-7c15c16ce563"
      },
      "outputs": [
        {
          "name": "stdout",
          "output_type": "stream",
          "text": [
            "['say', 'hello', 'to', 'my', 'little', 'pythonista', 'on', 'toast', 'with', 'marmalade']\n"
          ]
        }
      ],
      "source": [
        "#Exercise - 6\n",
        "extra_words =[ \"toast\", \"with\", \"marmalade\"]\n",
        "words.extend(extra_words)\n",
        "print(words)"
      ]
    },
    {
      "cell_type": "code",
      "execution_count": null,
      "metadata": {
        "collapsed": true,
        "id": "qBzV2cRB7yQy"
      },
      "outputs": [],
      "source": [
        ""
      ]
    },
    {
      "cell_type": "code",
      "execution_count": null,
      "metadata": {
        "collapsed": true,
        "id": "38mIa-3F7yQy"
      },
      "outputs": [],
      "source": [
        ""
      ]
    }
  ],
  "metadata": {
    "kernelspec": {
      "display_name": "Python 3",
      "language": "python",
      "name": "python3"
    },
    "language_info": {
      "codemirror_mode": {
        "name": "ipython",
        "version": 3
      },
      "file_extension": ".py",
      "mimetype": "text/x-python",
      "name": "python",
      "nbconvert_exporter": "python",
      "pygments_lexer": "ipython3",
      "version": "3.6.3"
    },
    "colab": {
      "name": "Module - 1  Sequence Type (List) - Solutions.ipynb",
      "provenance": [],
      "include_colab_link": true
    }
  },
  "nbformat": 4,
  "nbformat_minor": 0
}